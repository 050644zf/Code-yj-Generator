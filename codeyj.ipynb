{
 "cells": [
  {
   "cell_type": "code",
   "execution_count": 24,
   "metadata": {},
   "outputs": [],
   "source": [
    "import matplotlib.pyplot as plt\n",
    "import cv2\n",
    "import re\n",
    "\n",
    "alphabet=\"1234567890ABCDEFGHIJKLMNOPQRSTUVWSYZ-. *\"\n",
    "bars=[\"WNNNW\",\"NWNNW\",\"WWNNN\",\"NNWNW\",\"WNWNN\",\"NWWNN\",\"NNNWW\",\"WNNWN\",\"NWNWN\",\"NNWWN\"]\n",
    "spaces=[2,3,4,1]\n",
    "codeyjRule1=r\".*010$\"\n",
    "codeyjRule2=r\".*0110$\"\n",
    "codeyjRule3=r\"^110.*\"\n",
    "\n",
    "\n",
    "def encode39(char):\n",
    "    i=alphabet.find(char)\n",
    "    encodedchar=\"\"\n",
    "    tspace=0\n",
    "    for bar in bars[i%10]:\n",
    "        if bar=='W':\n",
    "            encodedchar=encodedchar+'11'\n",
    "        elif bar=='N':\n",
    "            encodedchar=encodedchar+'1'\n",
    "        tspace+=1\n",
    "        if tspace==spaces[int(i/10)]:\n",
    "            encodedchar=encodedchar+'00'\n",
    "        else:\n",
    "            encodedchar=encodedchar+'0'\n",
    "    return encodedchar\n",
    "\n",
    "def code39encode(string):\n",
    "    uncodedstr='*'+string+'*'\n",
    "    encodedstr=''\n",
    "    for c in uncodedstr:\n",
    "        encodedstr=encodedstr+encode39(c)\n",
    "\n",
    "    return encodedstr\n",
    "\n",
    "def code2img(code,codewidth=2,imgheight=50):\n",
    "    imgrow=[]\n",
    "    for c in code:\n",
    "        if c=='1':\n",
    "            for i in range(codewidth):\n",
    "                imgrow.append(0)\n",
    "        elif c=='0':\n",
    "            for i in range(codewidth):\n",
    "                imgrow.append(255)\n",
    "    \n",
    "    bimg=[]\n",
    "    for i in range(imgheight):\n",
    "        bimg.append(imgrow)\n",
    "\n",
    "    return bimg\n",
    "\n",
    "def codeyjencode(string):\n",
    "    uncodedstr=string\n",
    "    encodedstrList=[]\n",
    "    for c in uncodedstr:\n",
    "        if re.match(codeyjRule1,encode39(c))==None:\n",
    "            encodedstrList.append(encode39(c))\n",
    "        else:\n",
    "            encodedstrList.append(encode39(c)[:-2])\n",
    "    if not len(encodedstrList)==1:\n",
    "        for i in range(len(encodedstrList)-1):\n",
    "            if not re.match(codeyjRule2,encodedstrList[i])==None:\n",
    "                if not re.match(codeyjRule3,encodedstrList[i+1])==None:\n",
    "                    encodedstrList[i]=encodedstrList[i][:-1]\n",
    "    encodedstrList.append('1')\n",
    "    return \"\".join(encodedstrList)\n",
    "\n"
   ]
  },
  {
   "cell_type": "code",
   "execution_count": 22,
   "metadata": {},
   "outputs": [
    {
     "output_type": "execute_result",
     "data": {
      "text/plain": "'110011010101'"
     },
     "metadata": {},
     "execution_count": 22
    }
   ],
   "source": [
    "ostr=\"W\"\n",
    "img=code2img(codeyjencode(ostr))\n",
    "codeyjencode(ostr)"
   ]
  },
  {
   "cell_type": "code",
   "execution_count": 23,
   "metadata": {},
   "outputs": [
    {
     "output_type": "display_data",
     "data": {
      "text/plain": "<Figure size 432x288 with 1 Axes>",
      "image/svg+xml": "<?xml version=\"1.0\" encoding=\"utf-8\" standalone=\"no\"?>\r\n<!DOCTYPE svg PUBLIC \"-//W3C//DTD SVG 1.1//EN\"\r\n  \"http://www.w3.org/Graphics/SVG/1.1/DTD/svg11.dtd\">\r\n<!-- Created with matplotlib (https://matplotlib.org/) -->\r\n<svg height=\"263.63625pt\" version=\"1.1\" viewBox=\"0 0 138.4962 263.63625\" width=\"138.4962pt\" xmlns=\"http://www.w3.org/2000/svg\" xmlns:xlink=\"http://www.w3.org/1999/xlink\">\r\n <defs>\r\n  <style type=\"text/css\">\r\n*{stroke-linecap:butt;stroke-linejoin:round;}\r\n  </style>\r\n </defs>\r\n <g id=\"figure_1\">\r\n  <g id=\"patch_1\">\r\n   <path d=\"M 0 263.63625 \r\nL 138.4962 263.63625 \r\nL 138.4962 0 \r\nL 0 0 \r\nz\r\n\" style=\"fill:none;\"/>\r\n  </g>\r\n  <g id=\"axes_1\">\r\n   <g clip-path=\"url(#pd97e67ad18)\">\r\n    <image height=\"218\" id=\"imagea0d6a6c610\" transform=\"scale(1 -1)translate(0 -218)\" width=\"105\" x=\"26.925\" xlink:href=\"data:image/png;base64,\r\niVBORw0KGgoAAAANSUhEUgAAAGkAAADaCAYAAACl3GzhAAAABHNCSVQICAgIfAhkiAAAAiBJREFUeJzt0dEJgDAQBcGL/fccS1CIIAsz3+HlYNfM7Dm09/HEzMystY433tzy5p8vdr665Xp8we9EChApQKQAkQJEChApQKQAkQJEChApQKQAkQJEChApQKQAkQJEChApQKQAkQJEChApQKQAkQJEChApQKQAkQJEChApQKQAkQJEChApQKQAkQJEChApQKQAkQJEChApQKQAkQJEChApQKQAkQJEChApQKQAkQJEChApQKQAkQJEChApQKQAkQJEChApQKQAkQJEChApQKQAkQJEChApQKQAkQJEChApQKQAkQJEChApQKQAkQJEChApQKQAkQJEChApQKQAkQJEChApQKQAkQJEChApQKQAkQJEChApQKQAkQJEChApQKQAkQJEChApQKQAkQJEChApQKQAkQJEChApQKQAkQJEChApQKQAkQJEChApQKQAkQJEChApQKQAkQJEChApQKQAkQJEChApQKQAkQJEChApQKQAkQJEChApQKQAkQJEChApQKQAkQJEChApQKQAkQJEChApQKQAkQJEChApQKQAkQJEChApQKQAkQJEChApQKQAkQJEChApQKQAkQJEChApQKQAkQJEChApQKQAkQJEChApQKQAkQJEChApQKQAkQJEChApQKQAkQJEChApQKQAkQJEChApQKQAkQJEChApQKQAkQJEChApQKQAkQJEChApQKQAkQJEChApQKQAkQJuUQAOs69BUtEAAAAASUVORK5CYII=\" y=\"-21.758125\"/>\r\n   </g>\r\n   <g id=\"text_1\">\r\n    <!-- W -->\r\n    <defs>\r\n     <path d=\"M 3.328125 72.90625 \r\nL 13.28125 72.90625 \r\nL 28.609375 11.28125 \r\nL 43.890625 72.90625 \r\nL 54.984375 72.90625 \r\nL 70.3125 11.28125 \r\nL 85.59375 72.90625 \r\nL 95.609375 72.90625 \r\nL 77.296875 0 \r\nL 64.890625 0 \r\nL 49.515625 63.28125 \r\nL 33.984375 0 \r\nL 21.578125 0 \r\nz\r\n\" id=\"DejaVuSans-87\"/>\r\n    </defs>\r\n    <g transform=\"translate(73.1781 16.318125)scale(0.12 -0.12)\">\r\n     <use xlink:href=\"#DejaVuSans-87\"/>\r\n    </g>\r\n   </g>\r\n  </g>\r\n </g>\r\n <defs>\r\n  <clipPath id=\"pd97e67ad18\">\r\n   <rect height=\"217.44\" width=\"104.3712\" x=\"26.925\" y=\"22.318125\"/>\r\n  </clipPath>\r\n </defs>\r\n</svg>\r\n",
      "image/png": "[encoded data removed]"
     },
     "metadata": {
      "needs_background": "light"
     }
    },
    {
     "output_type": "execute_result",
     "data": {
      "text/plain": "(<matplotlib.image.AxesImage at 0x13168ffae10>,\n (-0.5, 23.5, 49.5, -0.5),\n Text(0.5, 1.0, 'W'),\n None)"
     },
     "metadata": {},
     "execution_count": 23
    }
   ],
   "source": [
    "plt.imshow(img,cmap='gray'),plt.axis('off'),plt.title(ostr),plt.show()"
   ]
  },
  {
   "cell_type": "code",
   "execution_count": 25,
   "metadata": {},
   "outputs": [
    {
     "output_type": "stream",
     "name": "stdout",
     "text": "1101001010110\n1011001010110\n1101100101010\n1010011010110\n1101001101010\n1011001101010\n1010010110110\n1101001011010\n1011001011010\n1010011011010\n1101010010110\n1011010010110\n1101101001010\n1010110010110\n1101011001010\n1011011001010\n1010100110110\n1101010011010\n1011010011010\n1010110011010\n1101010100110\n1011010100110\n1101101010010\n1010110100110\n1101011010010\n1011011010010\n1010101100110\n1101010110010\n1011010110010\n1010110110010\n1100101010110\n1001101010110\n1100110101010\n1011010110010\n1100101101010\n1001101101010\n1001010110110\n1100101011010\n1001101011010\n1001011011010\n"
    }
   ],
   "source": [
    "for a in alphabet:\n",
    "    print(encode39(a))"
   ]
  },
  {
   "cell_type": "code",
   "execution_count": null,
   "metadata": {},
   "outputs": [],
   "source": []
  }
 ],
 "metadata": {
  "language_info": {
   "codemirror_mode": {
    "name": "ipython",
    "version": 3
   },
   "file_extension": ".py",
   "mimetype": "text/x-python",
   "name": "python",
   "nbconvert_exporter": "python",
   "pygments_lexer": "ipython3",
   "version": "3.7.3-final"
  },
  "orig_nbformat": 2,
  "kernelspec": {
   "name": "python3",
   "display_name": "Python 3"
  }
 },
 "nbformat": 4,
 "nbformat_minor": 2
}